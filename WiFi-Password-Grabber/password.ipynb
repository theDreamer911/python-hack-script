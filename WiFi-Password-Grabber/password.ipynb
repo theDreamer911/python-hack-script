{
 "cells": [
  {
   "cell_type": "code",
   "execution_count": null,
   "metadata": {},
   "outputs": [],
   "source": [
    "# Importing the module\n",
    "import subprocess"
   ]
  },
  {
   "cell_type": "code",
   "execution_count": null,
   "metadata": {},
   "outputs": [],
   "source": [
    "# Command for displaying all connected wifi\n",
    "command = subprocess.check_output([\"netsh\", \"wlan\", \"show\", \"profiles\"])"
   ]
  },
  {
   "cell_type": "code",
   "execution_count": null,
   "metadata": {
    "scrolled": false
   },
   "outputs": [],
   "source": [
    "# Display the output of the command before\n",
    "command"
   ]
  },
  {
   "cell_type": "code",
   "execution_count": null,
   "metadata": {},
   "outputs": [],
   "source": [
    "type(command)"
   ]
  },
  {
   "cell_type": "code",
   "execution_count": null,
   "metadata": {},
   "outputs": [],
   "source": [
    "data = command.decode(\"utf-8\", errors=\"backslahsreplace\")"
   ]
  },
  {
   "cell_type": "code",
   "execution_count": null,
   "metadata": {},
   "outputs": [],
   "source": [
    "data"
   ]
  },
  {
   "cell_type": "code",
   "execution_count": null,
   "metadata": {},
   "outputs": [],
   "source": [
    "type(data)"
   ]
  },
  {
   "cell_type": "code",
   "execution_count": null,
   "metadata": {},
   "outputs": [],
   "source": [
    "ndata = data.split(\"\\n\")"
   ]
  },
  {
   "cell_type": "code",
   "execution_count": null,
   "metadata": {},
   "outputs": [],
   "source": [
    "ndata"
   ]
  },
  {
   "cell_type": "code",
   "execution_count": null,
   "metadata": {},
   "outputs": [],
   "source": [
    "profiles = []"
   ]
  },
  {
   "cell_type": "code",
   "execution_count": null,
   "metadata": {},
   "outputs": [],
   "source": [
    "for i in ndata:\n",
    "    # find \"All User Profile\"\n",
    "    if \"All User Profile\" in i:\n",
    "        print(i)\n",
    "        i = i.split(\":\")\n",
    "        print(i)\n",
    "        i = i[1]\n",
    "        print(i)\n",
    "        i = i[1:-1]\n",
    "        print(i)\n",
    "        profiles.append(i)"
   ]
  },
  {
   "cell_type": "code",
   "execution_count": null,
   "metadata": {},
   "outputs": [],
   "source": [
    "for i in ndata:\n",
    "    # find \"All User Profile\"\n",
    "    if \"All User Profile\" in i:\n",
    "        i = i.split(\":\")\n",
    "        i = i[1]\n",
    "        i = i[1:-1]\n",
    "        profiles.append(i)"
   ]
  },
  {
   "cell_type": "code",
   "execution_count": null,
   "metadata": {},
   "outputs": [],
   "source": [
    "profiles"
   ]
  },
  {
   "cell_type": "code",
   "execution_count": null,
   "metadata": {},
   "outputs": [],
   "source": [
    "print(\"==========================================\")\n",
    "print(\"{:<30}| {:<}\".format(\"Wi-Fi Name\", \"Password\"))\n",
    "print(\"==========================================\")"
   ]
  },
  {
   "cell_type": "code",
   "execution_count": null,
   "metadata": {},
   "outputs": [],
   "source": [
    "print(\"==========================================\")\n",
    "print(\"{:<30}| {:<}\".format(\"Wi-Fi Name\", \"Password\"))\n",
    "print(\"==========================================\")\n",
    "\n",
    "for i in profiles:\n",
    "    try:\n",
    "        results = subprocess.check_output([\"netsh\", \"wlan\", \"show\", \"profiles\", i, \"key=clear\"])\n",
    "        results = results.decode(\"utf-8\", errors=\"backslashreplace\")\n",
    "        results = results.split(\"\\n\")\n",
    "        results = [b.split(\":\")[1][1:-1] for b in results if \"Key Content\" in b]\n",
    "\n",
    "        try:\n",
    "            print(\"{:<30}| {:<}\".format(i, results[0]))\n",
    "        except IndexError:\n",
    "            print(\"{:<30}| {:<}\".format(i, \"\"))\n",
    "    except subprocess.CalledProcessError:\n",
    "        print(\"Error founded, exiting\")"
   ]
  },
  {
   "cell_type": "code",
   "execution_count": null,
   "metadata": {},
   "outputs": [],
   "source": []
  }
 ],
 "metadata": {
  "kernelspec": {
   "display_name": "Python 3",
   "language": "python",
   "name": "python3"
  },
  "language_info": {
   "codemirror_mode": {
    "name": "ipython",
    "version": 3
   },
   "file_extension": ".py",
   "mimetype": "text/x-python",
   "name": "python",
   "nbconvert_exporter": "python",
   "pygments_lexer": "ipython3",
   "version": "3.8.5"
  },
  "vscode": {
   "interpreter": {
    "hash": "fee0904bac53edcdfd46756e6b7fbd0668472b30344c037c5237096e25e8d4bf"
   }
  }
 },
 "nbformat": 4,
 "nbformat_minor": 2
}
